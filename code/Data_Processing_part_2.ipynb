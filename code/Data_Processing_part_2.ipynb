{
 "cells": [
  {
   "cell_type": "markdown",
   "metadata": {},
   "source": [
    "# TG - Data processing - part 2"
   ]
  },
  {
   "cell_type": "code",
   "execution_count": 246,
   "metadata": {},
   "outputs": [],
   "source": [
    "import pandas as pd\n",
    "import numpy  as np\n",
    "import matplotlib.pyplot as plt\n",
    "%matplotlib inline \n",
    "import scipy.io as scipy\n",
    "import os\n",
    "import math"
   ]
  },
  {
   "cell_type": "code",
   "execution_count": 247,
   "metadata": {},
   "outputs": [],
   "source": [
    "data_path = \"C:/Users/atmiy/OneDrive/Documents/TG/Data/\"\n",
    "csv_path = \"C:/Users/atmiy/OneDrive/Documents/TG/Code/\"\n",
    "subject_name = [\"sujet2\", \"sujet4\", \"sujet6\",\n",
    "                \"sujet7\", \"sujet8\", \"sujet9\", \n",
    "                \"sujet13\", \"sujet16\", \"sujet17\", \n",
    "                \"sujet20\", \"sujet21\"]\n",
    "\n",
    "level = [\"L\",\"M\", \"H\", \"R\"]\n",
    "\n",
    "parameters_band = [\"HR\", \"HRV\", \"Posture\", \"BR\"]\n",
    "\n",
    "parameters_eye = [\"RightEyePupilDiameter\",\n",
    "                  \"LeftEyePupilDiameter\",\n",
    "                  \"WeightedGazePointX\",\n",
    "                  \"WeightedGazePointY\"]\n",
    "\n",
    "block = [\"1\", \"2\"]\n",
    "file_type = [\"band\", \"eye_noprop\", \"eye_pupil-prop\"]"
   ]
  },
  {
   "cell_type": "code",
   "execution_count": 248,
   "metadata": {},
   "outputs": [],
   "source": [
    "def import_csv_to_dict(csv_path, subject_name, file_type):\n",
    "    frame = {}\n",
    "    for sub in subject_name:\n",
    "        frame[sub] = pd.read_csv(csv_path + sub + \"_\" + file_type + \".csv\")\n",
    "        frame[sub][\"Subject\"] = sub\n",
    "    return frame"
   ]
  },
  {
   "cell_type": "code",
   "execution_count": 249,
   "metadata": {},
   "outputs": [],
   "source": [
    "def unique_csv(frame, param, subject_name):\n",
    "    complete = pd.DataFrame(columns=['Time'] + param + ['Block', 'Level', 'Subject'])\n",
    "    for sub in subject_name:\n",
    "        complete = pd.concat([complete,frame[sub]])\n",
    "    return complete"
   ]
  },
  {
   "cell_type": "code",
   "execution_count": 250,
   "metadata": {},
   "outputs": [],
   "source": [
    "def reduce_eye_to_band(frame, fref, param, level, block, subject):\n",
    "    final_frame = pd.DataFrame(columns=frame.columns)\n",
    "    for lvl in level:\n",
    "        f1 = frame[frame['Level'] == lvl]\n",
    "        r1 = fref[fref['Level'] == lvl]\n",
    "        for blk in block:\n",
    "            \n",
    "            index1 = 0\n",
    "            index2 = 0\n",
    "            \n",
    "            f2 = f1[f1['Block'] == int(blk)]\n",
    "            f2.index = range(len(f2))\n",
    "            r2 = r1[r1['Block'] == int(blk)]\n",
    "            r2.index = range(len(r2))\n",
    "\n",
    "            for i in range(len(f2)):\n",
    "\n",
    "                if index2 < len(r2):\n",
    "                    if ( f2['Time'][i] >= r2['Time'][index2]) or (i == len(f2) - 1):\n",
    "                    \n",
    "                        mean = f2[['Time'] + param][index1:i].mean()\n",
    "                        mean['Time'] = r2['Time'][index2]\n",
    "                        mean['Block'] = int(blk)\n",
    "                        mean['Level'] = lvl\n",
    "                        mean['Subject'] = subject\n",
    "\n",
    "                        final_frame = final_frame.append(mean, ignore_index = True)\n",
    "        \n",
    "                        index1 = i\n",
    "                        index2+=1\n",
    "                \n",
    "    final_frame = final_frame.sort_values(\n",
    "            by = \"Time\", ascending = True)\n",
    "    final_frame.index = range(len(final_frame))            \n",
    "    return final_frame"
   ]
  },
  {
   "cell_type": "code",
   "execution_count": 258,
   "metadata": {},
   "outputs": [],
   "source": [
    "def save_all_csv(frame, subject_name, cap):\n",
    "    for sub in subject_name:\n",
    "        frame[sub].to_csv('C:/Users/atmiy/OneDrive/Documents/TG/Code/' + sub + '_' + cap + '.csv', index = False)"
   ]
  },
  {
   "cell_type": "code",
   "execution_count": 251,
   "metadata": {},
   "outputs": [],
   "source": [
    "band_frames = import_csv_to_dict(csv_path, subject_name, file_type[0])\n",
    "eye_frames = import_csv_to_dict(csv_path, subject_name, file_type[1])\n",
    "eye_frames_pupil = import_csv_to_dict(csv_path, subject_name, file_type[2])"
   ]
  },
  {
   "cell_type": "code",
   "execution_count": 254,
   "metadata": {},
   "outputs": [],
   "source": [
    "eye_frames_reduced = {}\n",
    "for sub in subject_name:\n",
    "    eye_frames_reduced[sub] = reduce_eye_to_band(\n",
    "        eye_frames_pupil[sub], band_frames[sub], parameters_eye, level, block, sub)"
   ]
  },
  {
   "cell_type": "code",
   "execution_count": 259,
   "metadata": {},
   "outputs": [],
   "source": [
    "save_all_csv(eye_frames_reduced, subject_name, 'eye_reduced')"
   ]
  },
  {
   "cell_type": "code",
   "execution_count": 268,
   "metadata": {},
   "outputs": [],
   "source": [
    "merge = {}\n",
    "for sub in subject_name:\n",
    "    merge[sub] = pd.merge(band_frames[sub], eye_frames_reduced[sub][['Time'] + parameters_eye], on='Time')"
   ]
  },
  {
   "cell_type": "code",
   "execution_count": 271,
   "metadata": {},
   "outputs": [],
   "source": [
    "save_all_csv(merge, subject_name, 'all')"
   ]
  },
  {
   "cell_type": "code",
   "execution_count": 272,
   "metadata": {},
   "outputs": [],
   "source": [
    "all_data = pd.DataFrame(columns=merge['sujet2'].columns)\n",
    "for sub in subject_name:\n",
    "    all_data = all_data.append(merge[sub], ignore_index = True)"
   ]
  },
  {
   "cell_type": "code",
   "execution_count": 279,
   "metadata": {},
   "outputs": [],
   "source": [
    "all_data.to_csv('C:/Users/atmiy/OneDrive/Documents/TG/Code/all_data.csv', index = False)"
   ]
  }
 ],
 "metadata": {
  "kernelspec": {
   "display_name": "Python 3",
   "language": "python",
   "name": "python3"
  },
  "language_info": {
   "codemirror_mode": {
    "name": "ipython",
    "version": 3
   },
   "file_extension": ".py",
   "mimetype": "text/x-python",
   "name": "python",
   "nbconvert_exporter": "python",
   "pygments_lexer": "ipython3",
   "version": "3.7.3"
  }
 },
 "nbformat": 4,
 "nbformat_minor": 2
}
